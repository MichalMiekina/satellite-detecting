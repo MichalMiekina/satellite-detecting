{
 "cells": [
  {
   "cell_type": "code",
   "execution_count": 4,
   "metadata": {},
   "outputs": [
    {
     "name": "stdout",
     "output_type": "stream",
     "text": [
      "Filtered image saved: ./Data/fits_filtered/filtered_tic1.png\n",
      "Filtered image saved: ./Data/fits_filtered/filtered_tic10.png\n",
      "Filtered image saved: ./Data/fits_filtered/filtered_tic11.png\n",
      "Filtered image saved: ./Data/fits_filtered/filtered_tic12.png\n",
      "Filtered image saved: ./Data/fits_filtered/filtered_tic13.png\n",
      "Filtered image saved: ./Data/fits_filtered/filtered_tic14.png\n",
      "Filtered image saved: ./Data/fits_filtered/filtered_tic15.png\n",
      "Filtered image saved: ./Data/fits_filtered/filtered_tic16.png\n",
      "Filtered image saved: ./Data/fits_filtered/filtered_tic17.png\n",
      "Filtered image saved: ./Data/fits_filtered/filtered_tic18.png\n",
      "Filtered image saved: ./Data/fits_filtered/filtered_tic19.png\n",
      "Filtered image saved: ./Data/fits_filtered/filtered_tic2.png\n",
      "Filtered image saved: ./Data/fits_filtered/filtered_tic20.png\n",
      "Filtered image saved: ./Data/fits_filtered/filtered_tic21.png\n",
      "Filtered image saved: ./Data/fits_filtered/filtered_tic22.png\n",
      "Filtered image saved: ./Data/fits_filtered/filtered_tic23.png\n",
      "Filtered image saved: ./Data/fits_filtered/filtered_tic24.png\n",
      "Filtered image saved: ./Data/fits_filtered/filtered_tic25.png\n",
      "Filtered image saved: ./Data/fits_filtered/filtered_tic26.png\n",
      "Filtered image saved: ./Data/fits_filtered/filtered_tic27.png\n",
      "Filtered image saved: ./Data/fits_filtered/filtered_tic28.png\n",
      "Filtered image saved: ./Data/fits_filtered/filtered_tic29.png\n",
      "Filtered image saved: ./Data/fits_filtered/filtered_tic3.png\n",
      "Filtered image saved: ./Data/fits_filtered/filtered_tic30.png\n",
      "Filtered image saved: ./Data/fits_filtered/filtered_tic31.png\n",
      "Filtered image saved: ./Data/fits_filtered/filtered_tic32.png\n",
      "Filtered image saved: ./Data/fits_filtered/filtered_tic33.png\n",
      "Filtered image saved: ./Data/fits_filtered/filtered_tic34.png\n",
      "Filtered image saved: ./Data/fits_filtered/filtered_tic4.png\n",
      "Filtered image saved: ./Data/fits_filtered/filtered_tic5.png\n",
      "Filtered image saved: ./Data/fits_filtered/filtered_tic6.png\n",
      "Filtered image saved: ./Data/fits_filtered/filtered_tic7.png\n",
      "Filtered image saved: ./Data/fits_filtered/filtered_tic8.png\n",
      "Filtered image saved: ./Data/fits_filtered/filtered_tic9.png\n"
     ]
    }
   ],
   "source": [
    "import os\n",
    "import numpy as np\n",
    "from astropy.io import fits\n",
    "from astropy.nddata import block_reduce\n",
    "from astropy.utils.data import get_pkg_data_filename\n",
    "from acstools.findsat_mrt import TrailFinder\n",
    "import matplotlib.pyplot as plt\n",
    "\n",
    "# Define the directory containing the FITS files\n",
    "fits_dir = './Data/fits/'\n",
    "# Define the directory to save filtered images\n",
    "filtered_dir = './Data/fits_filtered/'\n",
    "\n",
    "# Create the filtered directory if it doesn't exist\n",
    "os.makedirs(filtered_dir, exist_ok=True)\n",
    "\n",
    "# Get a list of FITS files in the directory\n",
    "fits_files = [f for f in os.listdir(fits_dir) if f.endswith('.fit')]\n",
    "\n",
    "# Loop over each FITS file\n",
    "for fits_file in fits_files:\n",
    "    # Construct the full path to the FITS file\n",
    "    fits_path = os.path.join(fits_dir, fits_file)\n",
    "    \n",
    "    # Load the FITS image\n",
    "    image = fits.getdata(fits_path, ext=0)\n",
    "    \n",
    "    # Subtract the median\n",
    "    image = image - np.nanmedian(image)\n",
    "    \n",
    "    # Reduce the image size\n",
    "    image = block_reduce(image, 1, func=np.nansum)\n",
    "    \n",
    "    # Apply the TrailFinder filter\n",
    "    s = TrailFinder(image, processes=2, threshold=2, min_length=200, min_persistence=0.4, max_width=30)\n",
    "    s.plot_image(overlay_mask=False)  # Plot the filtered image\n",
    "    \n",
    "    # Save the filtered image to the filtered directory\n",
    "    filtered_image_path = os.path.join(filtered_dir, f'filtered_{os.path.splitext(fits_file)[0]}.png')\n",
    "    plt.savefig(filtered_image_path)\n",
    "    plt.close()\n",
    "    \n",
    "    print(f\"Filtered image saved: {filtered_image_path}\")\n"
   ]
  }
 ],
 "metadata": {
  "kernelspec": {
   "display_name": "Python 3.10.0 64-bit",
   "language": "python",
   "name": "python3"
  },
  "language_info": {
   "codemirror_mode": {
    "name": "ipython",
    "version": 3
   },
   "file_extension": ".py",
   "mimetype": "text/x-python",
   "name": "python",
   "nbconvert_exporter": "python",
   "pygments_lexer": "ipython3",
   "version": "3.10.0"
  },
  "orig_nbformat": 4,
  "vscode": {
   "interpreter": {
    "hash": "369f2c481f4da34e4445cda3fffd2e751bd1c4d706f27375911949ba6bb62e1c"
   }
  }
 },
 "nbformat": 4,
 "nbformat_minor": 2
}
