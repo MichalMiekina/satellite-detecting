{
 "cells": [
  {
   "cell_type": "code",
   "execution_count": 2,
   "metadata": {},
   "outputs": [
    {
     "name": "stdout",
     "output_type": "stream",
     "text": [
      "1/1 [==============================] - 0s 327ms/step\n",
      "Generated image 0 saved as generated_image_0_2024-04-23_08-17-29.png\n",
      "Generated image 1 saved as generated_image_1_2024-04-23_08-17-29.png\n",
      "Generated image 2 saved as generated_image_2_2024-04-23_08-17-29.png\n",
      "Generated image 3 saved as generated_image_3_2024-04-23_08-17-29.png\n",
      "Generated image 4 saved as generated_image_4_2024-04-23_08-17-29.png\n",
      "Generated image 5 saved as generated_image_5_2024-04-23_08-17-29.png\n",
      "Generated image 6 saved as generated_image_6_2024-04-23_08-17-29.png\n",
      "Generated image 7 saved as generated_image_7_2024-04-23_08-17-29.png\n",
      "Generated image 8 saved as generated_image_8_2024-04-23_08-17-29.png\n",
      "Generated image 9 saved as generated_image_9_2024-04-23_08-17-29.png\n"
     ]
    }
   ],
   "source": [
    "import os\n",
    "import numpy as np\n",
    "from datetime import datetime\n",
    "from tensorflow.keras.layers import Dense, Reshape, Flatten, Conv2DTranspose\n",
    "from tensorflow.keras.models import Sequential\n",
    "from tensorflow.keras.optimizers import Adam\n",
    "from astropy.io import fits\n",
    "import cv2\n",
    "\n",
    "def preprocess_fit(image_path):\n",
    "    with fits.open(image_path) as hdul:\n",
    "        image_data = hdul[0].data.astype(np.uint8)\n",
    "        resized_image = cv2.resize(image_data, (224, 224))\n",
    "        rgb_image = cv2.cvtColor(resized_image, cv2.COLOR_GRAY2RGB)\n",
    "        preprocessed_image = np.expand_dims(rgb_image, axis=0)\n",
    "    return preprocessed_image\n",
    "\n",
    "def generate_augmented_data(generator, num_samples):\n",
    "    # Generate random noise as input to the generator\n",
    "    random_input = np.random.randn(num_samples, 100)\n",
    "    # Generate synthetic FIT files using the generator\n",
    "    generated_images = generator.predict(random_input)\n",
    "    return generated_images\n",
    "\n",
    "folder_path = './Data/fits/'\n",
    "\n",
    "# Define GAN architecture\n",
    "generator = Sequential([\n",
    "    Dense(7*7*256, input_shape=(100,), activation='relu'),\n",
    "    Reshape((7, 7, 256)),\n",
    "    Conv2DTranspose(128, (5, 5), strides=(1, 1), padding='same', activation='relu'),\n",
    "    Conv2DTranspose(64, (5, 5), strides=(2, 2), padding='same', activation='relu'),\n",
    "    Conv2DTranspose(1, (5, 5), strides=(2, 2), padding='same', activation='sigmoid')\n",
    "])\n",
    "\n",
    "# Sample usage: Load a FIT file and preprocess it\n",
    "sample_fit_file = os.path.join(folder_path, 'tic1.fit')\n",
    "preprocessed_image = preprocess_fit(sample_fit_file)\n",
    "\n",
    "# Sample usage: Generate augmented data using the GAN\n",
    "num_samples = 10  # Adjust the number of samples according to your needs\n",
    "generated_data = generate_augmented_data(generator, num_samples)\n",
    "\n",
    "# Sample usage: Save the generated data (for demonstration purposes)\n",
    "current_datetime = datetime.now().strftime(\"%Y-%m-%d_%H-%M-%S\")\n",
    "for i, image in enumerate(generated_data):\n",
    "    image_filename = f\"generated_image_{i}_{current_datetime}.png\"\n",
    "    cv2.imwrite(image_filename, image)\n",
    "    print(f\"Generated image {i} saved as {image_filename}\")\n"
   ]
  }
 ],
 "metadata": {
  "kernelspec": {
   "display_name": "Python 3.10.0 64-bit",
   "language": "python",
   "name": "python3"
  },
  "language_info": {
   "codemirror_mode": {
    "name": "ipython",
    "version": 3
   },
   "file_extension": ".py",
   "mimetype": "text/x-python",
   "name": "python",
   "nbconvert_exporter": "python",
   "pygments_lexer": "ipython3",
   "version": "3.10.0"
  },
  "orig_nbformat": 4,
  "vscode": {
   "interpreter": {
    "hash": "369f2c481f4da34e4445cda3fffd2e751bd1c4d706f27375911949ba6bb62e1c"
   }
  }
 },
 "nbformat": 4,
 "nbformat_minor": 2
}
