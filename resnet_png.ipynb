{
 "cells": [
  {
   "cell_type": "code",
   "execution_count": 5,
   "metadata": {},
   "outputs": [
    {
     "name": "stdout",
     "output_type": "stream",
     "text": [
      "0 .: CNN Model Metrics: 0.47058823529411764 0.45454545454545453 0.625 0.5263157894736842\n"
     ]
    },
    {
     "name": "stderr",
     "output_type": "stream",
     "text": [
      "c:\\Python310\\lib\\site-packages\\sklearn\\metrics\\_classification.py:1318: UndefinedMetricWarning: Precision is ill-defined and being set to 0.0 due to no predicted samples. Use `zero_division` parameter to control this behavior.\n",
      "  _warn_prf(average, modifier, msg_start, len(result))\n"
     ]
    },
    {
     "name": "stdout",
     "output_type": "stream",
     "text": [
      "1 .: CNN Model Metrics: 0.5294117647058824 0.0 0.0 0.0\n",
      "2 .: CNN Model Metrics: 0.5588235294117647 1.0 0.0625 0.11764705882352941\n",
      "3 .: CNN Model Metrics: 0.47058823529411764 0.47058823529411764 1.0 0.6399999999999999\n",
      "4 .: CNN Model Metrics: 0.4411764705882353 0.45454545454545453 0.9375 0.6122448979591837\n",
      "5 .: CNN Model Metrics: 0.5882352941176471 0.5555555555555556 0.625 0.5882352941176471\n",
      "6 .: CNN Model Metrics: 0.47058823529411764 0.4666666666666667 0.875 0.608695652173913\n",
      "7 .: CNN Model Metrics: 0.47058823529411764 0.47058823529411764 1.0 0.6399999999999999\n",
      "8 .: CNN Model Metrics: 0.47058823529411764 0.4375 0.4375 0.4375\n",
      "9 .: CNN Model Metrics: 0.47058823529411764 0.47058823529411764 1.0 0.6399999999999999\n",
      "10 .: CNN Model Metrics: 0.47058823529411764 0.47058823529411764 1.0 0.6399999999999999\n"
     ]
    },
    {
     "name": "stderr",
     "output_type": "stream",
     "text": [
      "c:\\Python310\\lib\\site-packages\\sklearn\\metrics\\_classification.py:1318: UndefinedMetricWarning: Precision is ill-defined and being set to 0.0 due to no predicted samples. Use `zero_division` parameter to control this behavior.\n",
      "  _warn_prf(average, modifier, msg_start, len(result))\n"
     ]
    },
    {
     "name": "stdout",
     "output_type": "stream",
     "text": [
      "11 .: CNN Model Metrics: 0.5294117647058824 0.0 0.0 0.0\n"
     ]
    },
    {
     "name": "stderr",
     "output_type": "stream",
     "text": [
      "c:\\Python310\\lib\\site-packages\\sklearn\\metrics\\_classification.py:1318: UndefinedMetricWarning: Precision is ill-defined and being set to 0.0 due to no predicted samples. Use `zero_division` parameter to control this behavior.\n",
      "  _warn_prf(average, modifier, msg_start, len(result))\n"
     ]
    },
    {
     "name": "stdout",
     "output_type": "stream",
     "text": [
      "12 .: CNN Model Metrics: 0.5294117647058824 0.0 0.0 0.0\n",
      "13 .: CNN Model Metrics: 0.47058823529411764 0.47058823529411764 1.0 0.6399999999999999\n"
     ]
    },
    {
     "name": "stderr",
     "output_type": "stream",
     "text": [
      "c:\\Python310\\lib\\site-packages\\sklearn\\metrics\\_classification.py:1318: UndefinedMetricWarning: Precision is ill-defined and being set to 0.0 due to no predicted samples. Use `zero_division` parameter to control this behavior.\n",
      "  _warn_prf(average, modifier, msg_start, len(result))\n"
     ]
    },
    {
     "name": "stdout",
     "output_type": "stream",
     "text": [
      "14 .: CNN Model Metrics: 0.5294117647058824 0.0 0.0 0.0\n",
      "15 .: CNN Model Metrics: 0.35294117647058826 0.2857142857142857 0.25 0.26666666666666666\n",
      "16 .: CNN Model Metrics: 0.47058823529411764 0.47058823529411764 1.0 0.6399999999999999\n",
      "17 .: CNN Model Metrics: 0.47058823529411764 0.47058823529411764 1.0 0.6399999999999999\n"
     ]
    },
    {
     "name": "stderr",
     "output_type": "stream",
     "text": [
      "c:\\Python310\\lib\\site-packages\\sklearn\\metrics\\_classification.py:1318: UndefinedMetricWarning: Precision is ill-defined and being set to 0.0 due to no predicted samples. Use `zero_division` parameter to control this behavior.\n",
      "  _warn_prf(average, modifier, msg_start, len(result))\n"
     ]
    },
    {
     "name": "stdout",
     "output_type": "stream",
     "text": [
      "18 .: CNN Model Metrics: 0.5294117647058824 0.0 0.0 0.0\n",
      "19 .: CNN Model Metrics: 0.5 0.4838709677419355 0.9375 0.6382978723404255\n"
     ]
    },
    {
     "name": "stderr",
     "output_type": "stream",
     "text": [
      "c:\\Python310\\lib\\site-packages\\sklearn\\metrics\\_classification.py:1318: UndefinedMetricWarning: Precision is ill-defined and being set to 0.0 due to no predicted samples. Use `zero_division` parameter to control this behavior.\n",
      "  _warn_prf(average, modifier, msg_start, len(result))\n"
     ]
    },
    {
     "name": "stdout",
     "output_type": "stream",
     "text": [
      "20 .: CNN Model Metrics: 0.5294117647058824 0.0 0.0 0.0\n",
      "21 .: CNN Model Metrics: 0.47058823529411764 0.3333333333333333 0.125 0.18181818181818182\n",
      "22 .: CNN Model Metrics: 0.47058823529411764 0.45454545454545453 0.625 0.5263157894736842\n",
      "23 .: CNN Model Metrics: 0.5588235294117647 0.5384615384615384 0.4375 0.4827586206896552\n",
      "24 .: CNN Model Metrics: 0.5 0.3333333333333333 0.0625 0.10526315789473684\n",
      "25 .: CNN Model Metrics: 0.6176470588235294 1.0 0.1875 0.3157894736842105\n",
      "26 .: CNN Model Metrics: 0.5882352941176471 1.0 0.125 0.2222222222222222\n",
      "27 .: CNN Model Metrics: 0.47058823529411764 0.47058823529411764 1.0 0.6399999999999999\n"
     ]
    },
    {
     "name": "stderr",
     "output_type": "stream",
     "text": [
      "c:\\Python310\\lib\\site-packages\\sklearn\\metrics\\_classification.py:1318: UndefinedMetricWarning: Precision is ill-defined and being set to 0.0 due to no predicted samples. Use `zero_division` parameter to control this behavior.\n",
      "  _warn_prf(average, modifier, msg_start, len(result))\n"
     ]
    },
    {
     "name": "stdout",
     "output_type": "stream",
     "text": [
      "28 .: CNN Model Metrics: 0.5294117647058824 0.0 0.0 0.0\n",
      "29 .: CNN Model Metrics: 0.47058823529411764 0.47058823529411764 1.0 0.6399999999999999\n",
      "30 .: CNN Model Metrics: 0.35294117647058826 0.2 0.125 0.15384615384615385\n",
      "31 .: CNN Model Metrics: 0.47058823529411764 0.47058823529411764 1.0 0.6399999999999999\n"
     ]
    },
    {
     "name": "stderr",
     "output_type": "stream",
     "text": [
      "c:\\Python310\\lib\\site-packages\\sklearn\\metrics\\_classification.py:1318: UndefinedMetricWarning: Precision is ill-defined and being set to 0.0 due to no predicted samples. Use `zero_division` parameter to control this behavior.\n",
      "  _warn_prf(average, modifier, msg_start, len(result))\n"
     ]
    },
    {
     "name": "stdout",
     "output_type": "stream",
     "text": [
      "32 .: CNN Model Metrics: 0.5294117647058824 0.0 0.0 0.0\n",
      "33 .: CNN Model Metrics: 0.47058823529411764 0.47058823529411764 1.0 0.6399999999999999\n"
     ]
    },
    {
     "name": "stderr",
     "output_type": "stream",
     "text": [
      "c:\\Python310\\lib\\site-packages\\sklearn\\metrics\\_classification.py:1318: UndefinedMetricWarning: Precision is ill-defined and being set to 0.0 due to no predicted samples. Use `zero_division` parameter to control this behavior.\n",
      "  _warn_prf(average, modifier, msg_start, len(result))\n"
     ]
    },
    {
     "name": "stdout",
     "output_type": "stream",
     "text": [
      "34 .: CNN Model Metrics: 0.5294117647058824 0.0 0.0 0.0\n",
      "35 .: CNN Model Metrics: 0.5882352941176471 0.55 0.6875 0.6111111111111112\n"
     ]
    },
    {
     "name": "stderr",
     "output_type": "stream",
     "text": [
      "c:\\Python310\\lib\\site-packages\\sklearn\\metrics\\_classification.py:1318: UndefinedMetricWarning: Precision is ill-defined and being set to 0.0 due to no predicted samples. Use `zero_division` parameter to control this behavior.\n",
      "  _warn_prf(average, modifier, msg_start, len(result))\n"
     ]
    },
    {
     "name": "stdout",
     "output_type": "stream",
     "text": [
      "36 .: CNN Model Metrics: 0.5294117647058824 0.0 0.0 0.0\n"
     ]
    },
    {
     "name": "stderr",
     "output_type": "stream",
     "text": [
      "c:\\Python310\\lib\\site-packages\\sklearn\\metrics\\_classification.py:1318: UndefinedMetricWarning: Precision is ill-defined and being set to 0.0 due to no predicted samples. Use `zero_division` parameter to control this behavior.\n",
      "  _warn_prf(average, modifier, msg_start, len(result))\n"
     ]
    },
    {
     "name": "stdout",
     "output_type": "stream",
     "text": [
      "37 .: CNN Model Metrics: 0.5294117647058824 0.0 0.0 0.0\n"
     ]
    },
    {
     "name": "stderr",
     "output_type": "stream",
     "text": [
      "c:\\Python310\\lib\\site-packages\\sklearn\\metrics\\_classification.py:1318: UndefinedMetricWarning: Precision is ill-defined and being set to 0.0 due to no predicted samples. Use `zero_division` parameter to control this behavior.\n",
      "  _warn_prf(average, modifier, msg_start, len(result))\n"
     ]
    },
    {
     "name": "stdout",
     "output_type": "stream",
     "text": [
      "38 .: CNN Model Metrics: 0.5294117647058824 0.0 0.0 0.0\n"
     ]
    },
    {
     "name": "stderr",
     "output_type": "stream",
     "text": [
      "c:\\Python310\\lib\\site-packages\\sklearn\\metrics\\_classification.py:1318: UndefinedMetricWarning: Precision is ill-defined and being set to 0.0 due to no predicted samples. Use `zero_division` parameter to control this behavior.\n",
      "  _warn_prf(average, modifier, msg_start, len(result))\n"
     ]
    },
    {
     "name": "stdout",
     "output_type": "stream",
     "text": [
      "39 .: CNN Model Metrics: 0.5294117647058824 0.0 0.0 0.0\n",
      "40 .: CNN Model Metrics: 0.5294117647058824 0.5 0.0625 0.1111111111111111\n",
      "41 .: CNN Model Metrics: 0.47058823529411764 0.47058823529411764 1.0 0.6399999999999999\n",
      "42 .: CNN Model Metrics: 0.47058823529411764 0.47058823529411764 1.0 0.6399999999999999\n",
      "43 .: CNN Model Metrics: 0.5 0.48484848484848486 1.0 0.653061224489796\n",
      "44 .: CNN Model Metrics: 0.5588235294117647 0.5172413793103449 0.9375 0.6666666666666667\n",
      "45 .: CNN Model Metrics: 0.38235294117647056 0.2222222222222222 0.125 0.16\n",
      "46 .: CNN Model Metrics: 0.47058823529411764 0.47058823529411764 1.0 0.6399999999999999\n",
      "47 .: CNN Model Metrics: 0.47058823529411764 0.46875 0.9375 0.625\n",
      "48 .: CNN Model Metrics: 0.5588235294117647 0.5555555555555556 0.3125 0.39999999999999997\n",
      "49 .: CNN Model Metrics: 0.5 0.48484848484848486 1.0 0.653061224489796\n"
     ]
    },
    {
     "name": "stderr",
     "output_type": "stream",
     "text": [
      "c:\\Python310\\lib\\site-packages\\sklearn\\metrics\\_classification.py:1318: UndefinedMetricWarning: Precision is ill-defined and being set to 0.0 due to no predicted samples. Use `zero_division` parameter to control this behavior.\n",
      "  _warn_prf(average, modifier, msg_start, len(result))\n"
     ]
    },
    {
     "name": "stdout",
     "output_type": "stream",
     "text": [
      "50 .: CNN Model Metrics: 0.5294117647058824 0.0 0.0 0.0\n"
     ]
    },
    {
     "name": "stderr",
     "output_type": "stream",
     "text": [
      "c:\\Python310\\lib\\site-packages\\sklearn\\metrics\\_classification.py:1318: UndefinedMetricWarning: Precision is ill-defined and being set to 0.0 due to no predicted samples. Use `zero_division` parameter to control this behavior.\n",
      "  _warn_prf(average, modifier, msg_start, len(result))\n"
     ]
    },
    {
     "name": "stdout",
     "output_type": "stream",
     "text": [
      "51 .: CNN Model Metrics: 0.5294117647058824 0.0 0.0 0.0\n",
      "52 .: CNN Model Metrics: 0.5882352941176471 1.0 0.125 0.2222222222222222\n",
      "53 .: CNN Model Metrics: 0.47058823529411764 0.47058823529411764 1.0 0.6399999999999999\n"
     ]
    },
    {
     "name": "stderr",
     "output_type": "stream",
     "text": [
      "c:\\Python310\\lib\\site-packages\\sklearn\\metrics\\_classification.py:1318: UndefinedMetricWarning: Precision is ill-defined and being set to 0.0 due to no predicted samples. Use `zero_division` parameter to control this behavior.\n",
      "  _warn_prf(average, modifier, msg_start, len(result))\n"
     ]
    },
    {
     "name": "stdout",
     "output_type": "stream",
     "text": [
      "54 .: CNN Model Metrics: 0.5294117647058824 0.0 0.0 0.0\n"
     ]
    },
    {
     "name": "stderr",
     "output_type": "stream",
     "text": [
      "c:\\Python310\\lib\\site-packages\\sklearn\\metrics\\_classification.py:1318: UndefinedMetricWarning: Precision is ill-defined and being set to 0.0 due to no predicted samples. Use `zero_division` parameter to control this behavior.\n",
      "  _warn_prf(average, modifier, msg_start, len(result))\n"
     ]
    },
    {
     "name": "stdout",
     "output_type": "stream",
     "text": [
      "55 .: CNN Model Metrics: 0.5294117647058824 0.0 0.0 0.0\n"
     ]
    },
    {
     "name": "stderr",
     "output_type": "stream",
     "text": [
      "c:\\Python310\\lib\\site-packages\\sklearn\\metrics\\_classification.py:1318: UndefinedMetricWarning: Precision is ill-defined and being set to 0.0 due to no predicted samples. Use `zero_division` parameter to control this behavior.\n",
      "  _warn_prf(average, modifier, msg_start, len(result))\n"
     ]
    },
    {
     "name": "stdout",
     "output_type": "stream",
     "text": [
      "56 .: CNN Model Metrics: 0.5294117647058824 0.0 0.0 0.0\n",
      "57 .: CNN Model Metrics: 0.47058823529411764 0.0 0.0 0.0\n",
      "58 .: CNN Model Metrics: 0.38235294117647056 0.2727272727272727 0.1875 0.2222222222222222\n",
      "59 .: CNN Model Metrics: 0.47058823529411764 0.47058823529411764 1.0 0.6399999999999999\n",
      "60 .: CNN Model Metrics: 0.4117647058823529 0.16666666666666666 0.0625 0.09090909090909091\n",
      "61 .: CNN Model Metrics: 0.47058823529411764 0.46875 0.9375 0.625\n"
     ]
    },
    {
     "name": "stderr",
     "output_type": "stream",
     "text": [
      "c:\\Python310\\lib\\site-packages\\sklearn\\metrics\\_classification.py:1318: UndefinedMetricWarning: Precision is ill-defined and being set to 0.0 due to no predicted samples. Use `zero_division` parameter to control this behavior.\n",
      "  _warn_prf(average, modifier, msg_start, len(result))\n"
     ]
    },
    {
     "name": "stdout",
     "output_type": "stream",
     "text": [
      "62 .: CNN Model Metrics: 0.5294117647058824 0.0 0.0 0.0\n"
     ]
    },
    {
     "name": "stderr",
     "output_type": "stream",
     "text": [
      "c:\\Python310\\lib\\site-packages\\sklearn\\metrics\\_classification.py:1318: UndefinedMetricWarning: Precision is ill-defined and being set to 0.0 due to no predicted samples. Use `zero_division` parameter to control this behavior.\n",
      "  _warn_prf(average, modifier, msg_start, len(result))\n"
     ]
    },
    {
     "name": "stdout",
     "output_type": "stream",
     "text": [
      "63 .: CNN Model Metrics: 0.5294117647058824 0.0 0.0 0.0\n",
      "64 .: CNN Model Metrics: 0.47058823529411764 0.25 0.0625 0.1\n",
      "65 .: CNN Model Metrics: 0.5588235294117647 0.5555555555555556 0.3125 0.39999999999999997\n",
      "66 .: CNN Model Metrics: 0.38235294117647056 0.41935483870967744 0.8125 0.5531914893617021\n",
      "67 .: CNN Model Metrics: 0.47058823529411764 0.47058823529411764 1.0 0.6399999999999999\n",
      "68 .: CNN Model Metrics: 0.5882352941176471 0.5833333333333334 0.4375 0.5\n"
     ]
    },
    {
     "name": "stderr",
     "output_type": "stream",
     "text": [
      "c:\\Python310\\lib\\site-packages\\sklearn\\metrics\\_classification.py:1318: UndefinedMetricWarning: Precision is ill-defined and being set to 0.0 due to no predicted samples. Use `zero_division` parameter to control this behavior.\n",
      "  _warn_prf(average, modifier, msg_start, len(result))\n"
     ]
    },
    {
     "name": "stdout",
     "output_type": "stream",
     "text": [
      "69 .: CNN Model Metrics: 0.5294117647058824 0.0 0.0 0.0\n",
      "70 .: CNN Model Metrics: 0.47058823529411764 0.47058823529411764 1.0 0.6399999999999999\n",
      "71 .: CNN Model Metrics: 0.47058823529411764 0.47058823529411764 1.0 0.6399999999999999\n",
      "72 .: CNN Model Metrics: 0.47058823529411764 0.47058823529411764 1.0 0.6399999999999999\n",
      "73 .: CNN Model Metrics: 0.47058823529411764 0.47058823529411764 1.0 0.6399999999999999\n",
      "74 .: CNN Model Metrics: 0.5588235294117647 0.52 0.8125 0.6341463414634146\n"
     ]
    },
    {
     "name": "stderr",
     "output_type": "stream",
     "text": [
      "c:\\Python310\\lib\\site-packages\\sklearn\\metrics\\_classification.py:1318: UndefinedMetricWarning: Precision is ill-defined and being set to 0.0 due to no predicted samples. Use `zero_division` parameter to control this behavior.\n",
      "  _warn_prf(average, modifier, msg_start, len(result))\n"
     ]
    },
    {
     "name": "stdout",
     "output_type": "stream",
     "text": [
      "75 .: CNN Model Metrics: 0.5294117647058824 0.0 0.0 0.0\n",
      "76 .: CNN Model Metrics: 0.5294117647058824 0.5 0.9375 0.6521739130434783\n"
     ]
    },
    {
     "name": "stderr",
     "output_type": "stream",
     "text": [
      "c:\\Python310\\lib\\site-packages\\sklearn\\metrics\\_classification.py:1318: UndefinedMetricWarning: Precision is ill-defined and being set to 0.0 due to no predicted samples. Use `zero_division` parameter to control this behavior.\n",
      "  _warn_prf(average, modifier, msg_start, len(result))\n"
     ]
    },
    {
     "name": "stdout",
     "output_type": "stream",
     "text": [
      "77 .: CNN Model Metrics: 0.5294117647058824 0.0 0.0 0.0\n",
      "78 .: CNN Model Metrics: 0.47058823529411764 0.47058823529411764 1.0 0.6399999999999999\n"
     ]
    },
    {
     "name": "stderr",
     "output_type": "stream",
     "text": [
      "c:\\Python310\\lib\\site-packages\\sklearn\\metrics\\_classification.py:1318: UndefinedMetricWarning: Precision is ill-defined and being set to 0.0 due to no predicted samples. Use `zero_division` parameter to control this behavior.\n",
      "  _warn_prf(average, modifier, msg_start, len(result))\n"
     ]
    },
    {
     "name": "stdout",
     "output_type": "stream",
     "text": [
      "79 .: CNN Model Metrics: 0.5294117647058824 0.0 0.0 0.0\n",
      "80 .: CNN Model Metrics: 0.47058823529411764 0.47058823529411764 1.0 0.6399999999999999\n",
      "81 .: CNN Model Metrics: 0.5 0.48484848484848486 1.0 0.653061224489796\n",
      "82 .: CNN Model Metrics: 0.5 0.0 0.0 0.0\n",
      "83 .: CNN Model Metrics: 0.5294117647058824 0.5 0.5625 0.5294117647058824\n",
      "84 .: CNN Model Metrics: 0.5588235294117647 1.0 0.0625 0.11764705882352941\n",
      "85 .: CNN Model Metrics: 0.47058823529411764 0.4666666666666667 0.875 0.608695652173913\n",
      "86 .: CNN Model Metrics: 0.47058823529411764 0.47058823529411764 1.0 0.6399999999999999\n",
      "87 .: CNN Model Metrics: 0.47058823529411764 0.47058823529411764 1.0 0.6399999999999999\n",
      "88 .: CNN Model Metrics: 0.47058823529411764 0.47058823529411764 1.0 0.6399999999999999\n",
      "89 .: CNN Model Metrics: 0.5 0.0 0.0 0.0\n",
      "90 .: CNN Model Metrics: 0.4117647058823529 0.0 0.0 0.0\n"
     ]
    },
    {
     "name": "stderr",
     "output_type": "stream",
     "text": [
      "c:\\Python310\\lib\\site-packages\\sklearn\\metrics\\_classification.py:1318: UndefinedMetricWarning: Precision is ill-defined and being set to 0.0 due to no predicted samples. Use `zero_division` parameter to control this behavior.\n",
      "  _warn_prf(average, modifier, msg_start, len(result))\n"
     ]
    },
    {
     "name": "stdout",
     "output_type": "stream",
     "text": [
      "91 .: CNN Model Metrics: 0.5294117647058824 0.0 0.0 0.0\n",
      "92 .: CNN Model Metrics: 0.47058823529411764 0.47058823529411764 1.0 0.6399999999999999\n"
     ]
    },
    {
     "name": "stderr",
     "output_type": "stream",
     "text": [
      "c:\\Python310\\lib\\site-packages\\sklearn\\metrics\\_classification.py:1318: UndefinedMetricWarning: Precision is ill-defined and being set to 0.0 due to no predicted samples. Use `zero_division` parameter to control this behavior.\n",
      "  _warn_prf(average, modifier, msg_start, len(result))\n"
     ]
    },
    {
     "name": "stdout",
     "output_type": "stream",
     "text": [
      "93 .: CNN Model Metrics: 0.5294117647058824 0.0 0.0 0.0\n",
      "94 .: CNN Model Metrics: 0.5 0.48484848484848486 1.0 0.653061224489796\n"
     ]
    },
    {
     "name": "stderr",
     "output_type": "stream",
     "text": [
      "c:\\Python310\\lib\\site-packages\\sklearn\\metrics\\_classification.py:1318: UndefinedMetricWarning: Precision is ill-defined and being set to 0.0 due to no predicted samples. Use `zero_division` parameter to control this behavior.\n",
      "  _warn_prf(average, modifier, msg_start, len(result))\n"
     ]
    },
    {
     "name": "stdout",
     "output_type": "stream",
     "text": [
      "95 .: CNN Model Metrics: 0.5294117647058824 0.0 0.0 0.0\n",
      "96 .: CNN Model Metrics: 0.5 0.4827586206896552 0.875 0.6222222222222222\n",
      "97 .: CNN Model Metrics: 0.5 0.48484848484848486 1.0 0.653061224489796\n",
      "98 .: CNN Model Metrics: 0.5588235294117647 1.0 0.0625 0.11764705882352941\n",
      "99 .: CNN Model Metrics: 0.5294117647058824 0.0 0.0 0.0\n",
      "Model metrics saved to: model_metrics_resnet_2024-05-09_16-02-22.csv\n"
     ]
    },
    {
     "name": "stderr",
     "output_type": "stream",
     "text": [
      "c:\\Python310\\lib\\site-packages\\sklearn\\metrics\\_classification.py:1318: UndefinedMetricWarning: Precision is ill-defined and being set to 0.0 due to no predicted samples. Use `zero_division` parameter to control this behavior.\n",
      "  _warn_prf(average, modifier, msg_start, len(result))\n"
     ]
    }
   ],
   "source": [
    "import os\n",
    "import cv2\n",
    "import numpy as np\n",
    "import pandas as pd\n",
    "from tensorflow.keras.layers import Dense, GlobalAveragePooling2D\n",
    "from tensorflow.keras.models import Model\n",
    "from tensorflow.keras.optimizers import Adam\n",
    "from datetime import datetime\n",
    "from tensorflow.keras.applications import ResNet50\n",
    "from sklearn.metrics import precision_score, recall_score, f1_score\n",
    "\n",
    "def calculate_metrics(stats_df):\n",
    "    correct_predictions = stats_df[stats_df['ground_truth'] == stats_df['cnn_prediction']]\n",
    "    accuracy = len(correct_predictions) / len(stats_df)\n",
    "    precision = precision_score(stats_df['ground_truth'], stats_df['cnn_prediction'])\n",
    "    recall = recall_score(stats_df['ground_truth'], stats_df['cnn_prediction'])\n",
    "    f1 = f1_score(stats_df['ground_truth'], stats_df['cnn_prediction'])\n",
    "    return accuracy, precision, recall, f1\n",
    "\n",
    "def serialize_model(model, accuracy):\n",
    "    if accuracy >= 0.80:\n",
    "        current_datetime = datetime.now().strftime(\"%Y-%m-%d_%H-%M-%S\")\n",
    "        model_filename = f\"trained_model_{current_datetime}.h5\"\n",
    "        model.save(model_filename)\n",
    "        print(\"Model serialized successfully. Model saved as:\", model_filename)\n",
    "        return model_filename\n",
    "    else:\n",
    "        return None\n",
    "\n",
    "def preprocess_png(image_path):\n",
    "    image = cv2.imread(image_path)\n",
    "    resized_image = cv2.resize(image, (224, 224))\n",
    "    preprocessed_image = np.expand_dims(resized_image, axis=0)\n",
    "    return preprocessed_image\n",
    "\n",
    "def detect_lines_cnn(image_path, model):\n",
    "    preprocessed_image = preprocess_png(image_path)\n",
    "    prediction = model.predict(preprocessed_image, verbose=0)[0][0]\n",
    "    if prediction >= 0.5:\n",
    "        return True\n",
    "    else:\n",
    "        return False\n",
    "\n",
    "def find_latest_dictionary_csv(folder_path):\n",
    "    csv_files = [f for f in os.listdir(folder_path) if f.startswith('dictionary') and f.endswith('.csv')]\n",
    "    if not csv_files:\n",
    "        print(\"No dictionary CSV file found.\")\n",
    "        return None\n",
    "    latest_csv = max(csv_files)\n",
    "    return latest_csv\n",
    "\n",
    "def load_dictionary(folder_path):\n",
    "    latest_dictionary_csv = find_latest_dictionary_csv(folder_path)\n",
    "    if latest_dictionary_csv:\n",
    "        dictionary_df = pd.read_csv(os.path.join(folder_path, latest_dictionary_csv))\n",
    "        return dictionary_df\n",
    "    else:\n",
    "        print(\"Exiting program.\")\n",
    "        exit()\n",
    "\n",
    "def read_png_data(folder_path, dictionary_df, model):\n",
    "    filenames = []\n",
    "    ground_truth = []\n",
    "    cnn_predictions = []\n",
    "    for filename in os.listdir(folder_path):\n",
    "        if filename.endswith('.png'):\n",
    "            image_path = os.path.join(folder_path, filename)\n",
    "            matching_row = dictionary_df[dictionary_df['output'] == filename]\n",
    "            if len(matching_row) == 0:\n",
    "                print(f\"No label found for filename: {filename}\")\n",
    "                continue\n",
    "            label = matching_row.iloc[0]['label']\n",
    "            ground_truth.append(label)\n",
    "            cnn_prediction = detect_lines_cnn(image_path, model)\n",
    "            cnn_predictions.append(cnn_prediction)\n",
    "            filenames.append(filename)\n",
    "    return pd.DataFrame({\n",
    "        'filename': filenames,\n",
    "        'ground_truth': ground_truth,\n",
    "        'cnn_prediction': cnn_predictions\n",
    "    })\n",
    "\n",
    "def save_metrics_to_csv(metrics_list):\n",
    "    current_datetime = datetime.now().strftime(\"%Y-%m-%d_%H-%M-%S\")\n",
    "    csv_filename = f\"model_metrics_resnet_{current_datetime}.csv\"\n",
    "    metrics_df = pd.DataFrame(metrics_list, columns=['Accuracy', 'Precision', 'Recall', 'F1'])\n",
    "    metrics_df.to_csv(csv_filename, index=False)\n",
    "    print(\"Model metrics saved to:\", csv_filename)\n",
    "\n",
    "folder_path = './Data/fits_filtered8/'\n",
    "\n",
    "metrics_list = []\n",
    "\n",
    "for i in range(100):\n",
    "    base_model = ResNet50(weights='imagenet', include_top=False, input_shape=(224, 224, 3))\n",
    "    for layer in base_model.layers:\n",
    "        layer.trainable = False\n",
    "\n",
    "    x = GlobalAveragePooling2D()(base_model.output)\n",
    "    x = Dense(256, activation='relu')(x)\n",
    "    predictions = Dense(1, activation='sigmoid')(x)\n",
    "\n",
    "    model = Model(inputs=base_model.input, outputs=predictions)\n",
    "    model.compile(optimizer=Adam(learning_rate=0.0001), loss='binary_crossentropy', metrics=['accuracy'])\n",
    "\n",
    "    dictionary_df = load_dictionary(folder_path)\n",
    "    stats_df = read_png_data(folder_path, dictionary_df, model)\n",
    "\n",
    "    accuracy, precision, recall, f1 = calculate_metrics(stats_df)\n",
    "\n",
    "    print(i, \".: CNN Model Metrics:\", accuracy, precision, recall, f1)\n",
    "    model_filename = serialize_model(model, accuracy)\n",
    "    metrics_list.append({'Accuracy': accuracy, 'Precision': precision, 'Recall': recall, 'F1': f1})\n",
    "\n",
    "# Save the list of metrics to a CSV file\n",
    "save_metrics_to_csv(metrics_list)\n"
   ]
  }
 ],
 "metadata": {
  "kernelspec": {
   "display_name": "Python 3.10.0 64-bit",
   "language": "python",
   "name": "python3"
  },
  "language_info": {
   "codemirror_mode": {
    "name": "ipython",
    "version": 3
   },
   "file_extension": ".py",
   "mimetype": "text/x-python",
   "name": "python",
   "nbconvert_exporter": "python",
   "pygments_lexer": "ipython3",
   "version": "3.10.0"
  },
  "orig_nbformat": 4,
  "vscode": {
   "interpreter": {
    "hash": "369f2c481f4da34e4445cda3fffd2e751bd1c4d706f27375911949ba6bb62e1c"
   }
  }
 },
 "nbformat": 4,
 "nbformat_minor": 2
}
